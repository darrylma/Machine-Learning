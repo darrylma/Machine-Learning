{
 "cells": [
  {
   "cell_type": "markdown",
   "metadata": {
    "deletable": true,
    "editable": true
   },
   "source": [
    "# Machine Learning Nanodegree\n",
    "\n",
    "## Capstone Project \n",
    "\n",
    "### Image Recognition - American Sign Language\n",
    "\n",
    "The purpose of this project is to use supervised machine learning to achieve at least 80% accuracy in identifying 24 of the 26 English alphabets from a given dataset of American sign language visual cues. This notebook details the steps taken and code used to explore, pre-process and model architecture to achieve that goal."
   ]
  },
  {
   "cell_type": "markdown",
   "metadata": {
    "deletable": true,
    "editable": true
   },
   "source": [
    "#### LOADING DATA\n",
    "\n",
    "The following code loads in all the neccessary libraries."
   ]
  },
  {
   "cell_type": "code",
   "execution_count": 1,
   "metadata": {
    "collapsed": false,
    "deletable": true,
    "editable": true
   },
   "outputs": [
    {
     "name": "stderr",
     "output_type": "stream",
     "text": [
      "Using TensorFlow backend.\n",
      "C:\\Users\\Darryl\\Anaconda3\\envs\\dog-project\\lib\\site-packages\\sklearn\\cross_validation.py:44: DeprecationWarning: This module was deprecated in version 0.18 in favor of the model_selection module into which all the refactored classes and functions are moved. Also note that the interface of the new CV iterators are different from that of this module. This module will be removed in 0.20.\n",
      "  \"This module will be removed in 0.20.\", DeprecationWarning)\n",
      "C:\\Users\\Darryl\\Anaconda3\\envs\\dog-project\\lib\\site-packages\\sklearn\\grid_search.py:43: DeprecationWarning: This module was deprecated in version 0.18 in favor of the model_selection module into which all the refactored classes and functions are moved. This module will be removed in 0.20.\n",
      "  DeprecationWarning)\n"
     ]
    }
   ],
   "source": [
    "# Global libararies      \n",
    "from glob import glob\n",
    "import numpy as np\n",
    "import pandas as pd\n",
    "import matplotlib.pyplot as plt\n",
    "import math\n",
    "import tensorflow as tf\n",
    "from time import time\n",
    "import cv2     \n",
    "\n",
    "# Keras libraries\n",
    "import keras\n",
    "from keras.utils import np_utils\n",
    "from keras.models import Sequential\n",
    "from keras.layers import Conv2D, MaxPooling2D, Flatten, Dense, Dropout, GlobalAveragePooling2D\n",
    "from keras.callbacks import ModelCheckpoint  \n",
    "from keras.applications.vgg16 import VGG16\n",
    "from keras.preprocessing import image\n",
    "from keras.applications.vgg16 import preprocess_input\n",
    "\n",
    "# Sklearn libraries\n",
    "from sklearn.datasets import load_files  \n",
    "from sklearn.ensemble import AdaBoostClassifier\n",
    "from sklearn.svm import SVC\n",
    "from sklearn.naive_bayes import GaussianNB\n",
    "from sklearn.metrics import accuracy_score, confusion_matrix\n",
    "from sklearn.metrics import fbeta_score, accuracy_score\n",
    "from sklearn.grid_search import GridSearchCV\n",
    "from sklearn.metrics import make_scorer"
   ]
  },
  {
   "cell_type": "markdown",
   "metadata": {
    "deletable": true,
    "editable": true
   },
   "source": [
    "The following code loads in all the training and testing data, reading input from .csv files and converting them into feature and label dataframes."
   ]
  },
  {
   "cell_type": "code",
   "execution_count": 2,
   "metadata": {
    "collapsed": false,
    "deletable": true,
    "editable": true
   },
   "outputs": [
    {
     "name": "stdout",
     "output_type": "stream",
     "text": [
      "The  training  dataset has 27455 samples with 784 features each.\n",
      "The  testing  dataset has 7172 samples with 784 features each.\n"
     ]
    }
   ],
   "source": [
    "# Function to read in dataset in panda dataframe\n",
    "def load_dataset(category, file):\n",
    "    features = pd.DataFrame()\n",
    "    labels = pd.DataFrame()\n",
    "    try:\n",
    "        data = pd.read_csv(file)\n",
    "        labels = data['label']\n",
    "        features = data.drop('label', axis = 1)\n",
    "        print(\"The \", category, \" dataset has {} samples with {} features each.\".format(*features.shape))\n",
    "    except:\n",
    "        print(\"Dataset could not be loaded. Is the dataset missing?\")\n",
    "    return features, labels\n",
    "\n",
    "# Loads training and testing datasets\n",
    "train_features, train_labels = load_dataset('training', 'sign_mnist_train.csv')\n",
    "test_features, test_labels = load_dataset('testing', 'sign_mnist_test.csv')"
   ]
  },
  {
   "cell_type": "markdown",
   "metadata": {
    "collapsed": true,
    "deletable": true,
    "editable": true
   },
   "source": [
    "#### EXPLORING DATA\n",
    "\n",
    "The code below visualizes the input images for the purpose of guaging the quality of the features being used to train the supervised learning models."
   ]
  },
  {
   "cell_type": "code",
   "execution_count": 3,
   "metadata": {
    "collapsed": false,
    "deletable": true,
    "editable": true
   },
   "outputs": [
    {
     "data": {
      "image/png": "[encoded data removed]",
      "text/plain": [
       "<matplotlib.figure.Figure at 0x1f20b8fa048>"
      ]
     },
     "metadata": {},
     "output_type": "display_data"
    }
   ],
   "source": [
    "# Returns the index of the first occurence of an item in an array\n",
    "def find_first(item, array):\n",
    "    for i in range(len(array)):\n",
    "        if item == array[i]:\n",
    "            return i\n",
    "    return -1\n",
    "\n",
    "# Converts dataframe to numpy array\n",
    "np_train_labels = train_labels.values\n",
    "\n",
    "# Creates an array of all the unique labels\n",
    "unique_labels = np.unique(np_train_labels)\n",
    "\n",
    "# Plots all unique handshapes in a 5x5 grid\n",
    "fig, axs = plt.subplots(5,5,figsize=(20,20))\n",
    "for i, l in enumerate(unique_labels):\n",
    "    loc = find_first(l, np_train_labels)\n",
    "    img_flat = train_features.iloc[loc].values\n",
    "    img = img_flat.reshape(28,28)\n",
    "    plt.subplot(5, 5, i+1, xticks=[], yticks=[])\n",
    "    plt.imshow(img, cmap='Greys')\n",
    "    plt.title(\"Label: \" + str(l))\n",
    "\n",
    "plt.subplots_adjust(top = 0.5, bottom=0.01, hspace=0.5, wspace=0.01)\n",
    "plt.show()"
   ]
  },
  {
   "cell_type": "markdown",
   "metadata": {
    "deletable": true,
    "editable": true
   },
   "source": [
    "#### PRE-PROCESS DATA\n",
    "\n",
    "The data has been pre-processed in the following manner:\n",
    "1. Rescale feature values\n",
    "2. Create one-hot encoding for labels\n",
    "3. Create validation dataset from training dataset\n",
    "4. Reshape input features from 1D arrays into 4D tensors"
   ]
  },
  {
   "cell_type": "code",
   "execution_count": 4,
   "metadata": {
    "collapsed": false,
    "deletable": true,
    "editable": true
   },
   "outputs": [
    {
     "name": "stdout",
     "output_type": "stream",
     "text": [
      "24455 train samples\n",
      "7172 test samples\n",
      "3000 validation samples\n"
     ]
    }
   ],
   "source": [
    "# Rescales [0,255] --> [0,1]\n",
    "x_train = train_features.astype('float32')/255\n",
    "x_test = test_features.astype('float32')/255\n",
    "\n",
    "# One-hot encode the labels\n",
    "num_classes = len(unique_labels)+1\n",
    "y_train = keras.utils.to_categorical(train_labels.values, num_classes)\n",
    "y_test = keras.utils.to_categorical(test_labels.values, num_classes)\n",
    "\n",
    "# Breaks training dataset into training and validation datasets\n",
    "(x_train, x_valid) = x_train[3000:], x_train[:3000]\n",
    "(y_train, y_valid) = y_train[3000:], y_train[:3000]\n",
    "\n",
    "# Reshapes training, validation and testing features into 4D tensors\n",
    "x_train = x_train.values.reshape(-1, 28, 28, 1)\n",
    "x_valid = x_valid.values.reshape(-1, 28, 28, 1)\n",
    "x_test = x_test.values.reshape(-1, 28, 28, 1)\n",
    "\n",
    "print(x_train.shape[0], 'train samples')\n",
    "print(x_test.shape[0], 'test samples')\n",
    "print(x_valid.shape[0], 'validation samples')"
   ]
  },
  {
   "cell_type": "markdown",
   "metadata": {
    "deletable": true,
    "editable": true
   },
   "source": [
    "#### MODEL ARCHITECTURE\n",
    "\n",
    "The following section explores various models and their corresponding accuracies achieved:\n",
    "1. Single Layer Perceptron\n",
    "2. CNN (Multilayer from Scratch)\n",
    "3. AdaBoost Classifier\n",
    "4. Support Vector Machines\n",
    "5. Gaussian Naive Bayes\n",
    "\n",
    "##### SINGLE LAYER PERCEPTRON"
   ]
  },
  {
   "cell_type": "code",
   "execution_count": 5,
   "metadata": {
    "collapsed": false,
    "deletable": true,
    "editable": true
   },
   "outputs": [
    {
     "name": "stdout",
     "output_type": "stream",
     "text": [
      "_________________________________________________________________\n",
      "Layer (type)                 Output Shape              Param #   \n",
      "=================================================================\n",
      "flatten_1 (Flatten)          (None, 784)               0         \n",
      "_________________________________________________________________\n",
      "dropout_1 (Dropout)          (None, 784)               0         \n",
      "_________________________________________________________________\n",
      "dense_1 (Dense)              (None, 25)                19625     \n",
      "=================================================================\n",
      "Total params: 19,625.0\n",
      "Trainable params: 19,625.0\n",
      "Non-trainable params: 0.0\n",
      "_________________________________________________________________\n",
      "Train on 24455 samples, validate on 3000 samples\n",
      "Epoch 1/25\n",
      "Epoch 00000: val_loss improved from inf to 2.51126, saving model to model.weights.best.1_layer\n",
      "1s - loss: 3.0794 - acc: 0.1209 - val_loss: 2.5113 - val_acc: 0.3347\n",
      "Epoch 2/25\n",
      "Epoch 00001: val_loss improved from 2.51126 to 2.15538, saving model to model.weights.best.1_layer\n",
      "1s - loss: 2.5501 - acc: 0.2525 - val_loss: 2.1554 - val_acc: 0.4590\n",
      "Epoch 3/25\n",
      "Epoch 00002: val_loss improved from 2.15538 to 1.93038, saving model to model.weights.best.1_layer\n",
      "1s - loss: 2.2867 - acc: 0.3265 - val_loss: 1.9304 - val_acc: 0.5230\n",
      "Epoch 4/25\n",
      "Epoch 00003: val_loss improved from 1.93038 to 1.81196, saving model to model.weights.best.1_layer\n",
      "1s - loss: 2.1211 - acc: 0.3695 - val_loss: 1.8120 - val_acc: 0.5120\n",
      "Epoch 5/25\n",
      "Epoch 00004: val_loss improved from 1.81196 to 1.68812, saving model to model.weights.best.1_layer\n",
      "1s - loss: 2.0104 - acc: 0.4036 - val_loss: 1.6881 - val_acc: 0.5787\n",
      "Epoch 6/25\n",
      "Epoch 00005: val_loss improved from 1.68812 to 1.59762, saving model to model.weights.best.1_layer\n",
      "1s - loss: 1.9239 - acc: 0.4290 - val_loss: 1.5976 - val_acc: 0.6267\n",
      "Epoch 7/25\n",
      "Epoch 00006: val_loss improved from 1.59762 to 1.54338, saving model to model.weights.best.1_layer\n",
      "1s - loss: 1.8696 - acc: 0.4409 - val_loss: 1.5434 - val_acc: 0.6197\n",
      "Epoch 8/25\n",
      "Epoch 00007: val_loss improved from 1.54338 to 1.49904, saving model to model.weights.best.1_layer\n",
      "1s - loss: 1.8220 - acc: 0.4554 - val_loss: 1.4990 - val_acc: 0.6197\n",
      "Epoch 9/25\n",
      "Epoch 00008: val_loss improved from 1.49904 to 1.44140, saving model to model.weights.best.1_layer\n",
      "1s - loss: 1.7852 - acc: 0.4633 - val_loss: 1.4414 - val_acc: 0.6367\n",
      "Epoch 10/25\n",
      "Epoch 00009: val_loss improved from 1.44140 to 1.39708, saving model to model.weights.best.1_layer\n",
      "1s - loss: 1.7497 - acc: 0.4717 - val_loss: 1.3971 - val_acc: 0.6483\n",
      "Epoch 11/25\n",
      "Epoch 00010: val_loss improved from 1.39708 to 1.36796, saving model to model.weights.best.1_layer\n",
      "1s - loss: 1.7332 - acc: 0.4763 - val_loss: 1.3680 - val_acc: 0.6813\n",
      "Epoch 12/25\n",
      "Epoch 00011: val_loss did not improve\n",
      "1s - loss: 1.7189 - acc: 0.4801 - val_loss: 1.3690 - val_acc: 0.6130\n",
      "Epoch 13/25\n",
      "Epoch 00012: val_loss improved from 1.36796 to 1.33924, saving model to model.weights.best.1_layer\n",
      "1s - loss: 1.6985 - acc: 0.4822 - val_loss: 1.3392 - val_acc: 0.6633\n",
      "Epoch 14/25\n",
      "Epoch 00013: val_loss did not improve\n",
      "1s - loss: 1.6730 - acc: 0.4937 - val_loss: 1.3453 - val_acc: 0.6403\n",
      "Epoch 15/25\n",
      "Epoch 00014: val_loss improved from 1.33924 to 1.28943, saving model to model.weights.best.1_layer\n",
      "1s - loss: 1.6689 - acc: 0.4905 - val_loss: 1.2894 - val_acc: 0.6917\n",
      "Epoch 16/25\n",
      "Epoch 00015: val_loss improved from 1.28943 to 1.25906, saving model to model.weights.best.1_layer\n",
      "1s - loss: 1.6604 - acc: 0.4940 - val_loss: 1.2591 - val_acc: 0.6887\n",
      "Epoch 17/25\n",
      "Epoch 00016: val_loss improved from 1.25906 to 1.23926, saving model to model.weights.best.1_layer\n",
      "1s - loss: 1.6523 - acc: 0.4934 - val_loss: 1.2393 - val_acc: 0.7200\n",
      "Epoch 18/25\n",
      "Epoch 00017: val_loss did not improve\n",
      "1s - loss: 1.6471 - acc: 0.4941 - val_loss: 1.2448 - val_acc: 0.6997\n",
      "Epoch 19/25\n",
      "Epoch 00018: val_loss improved from 1.23926 to 1.23042, saving model to model.weights.best.1_layer\n",
      "1s - loss: 1.6346 - acc: 0.5003 - val_loss: 1.2304 - val_acc: 0.6910\n",
      "Epoch 20/25\n",
      "Epoch 00019: val_loss improved from 1.23042 to 1.21434, saving model to model.weights.best.1_layer\n",
      "1s - loss: 1.6312 - acc: 0.4979 - val_loss: 1.2143 - val_acc: 0.6950\n",
      "Epoch 21/25\n",
      "Epoch 00020: val_loss improved from 1.21434 to 1.19584, saving model to model.weights.best.1_layer\n",
      "1s - loss: 1.6261 - acc: 0.5015 - val_loss: 1.1958 - val_acc: 0.7263\n",
      "Epoch 22/25\n",
      "Epoch 00021: val_loss improved from 1.19584 to 1.18283, saving model to model.weights.best.1_layer\n",
      "1s - loss: 1.6166 - acc: 0.5056 - val_loss: 1.1828 - val_acc: 0.7070\n",
      "Epoch 23/25\n",
      "Epoch 00022: val_loss did not improve\n",
      "1s - loss: 1.6275 - acc: 0.4970 - val_loss: 1.1930 - val_acc: 0.7000\n",
      "Epoch 24/25\n",
      "Epoch 00023: val_loss did not improve\n",
      "1s - loss: 1.6078 - acc: 0.5062 - val_loss: 1.2084 - val_acc: 0.6687\n",
      "Epoch 25/25\n",
      "Epoch 00024: val_loss improved from 1.18283 to 1.18009, saving model to model.weights.best.1_layer\n",
      "1s - loss: 1.6075 - acc: 0.5068 - val_loss: 1.1801 - val_acc: 0.6823\n"
     ]
    }
   ],
   "source": [
    "# Creates the model\n",
    "start = time()\n",
    "model = Sequential()\n",
    "\n",
    "model.add(Flatten(input_shape=x_train.shape[1:]))\n",
    "model.add(Dropout(0.4))\n",
    "model.add(Dense(25, activation='softmax'))\n",
    "\n",
    "model.summary()\n",
    "\n",
    "# Compiles the model\n",
    "model.compile(loss='categorical_crossentropy', optimizer='sgd', metrics=['accuracy'])\n",
    "\n",
    "# Trains the model\n",
    "checkpointer = ModelCheckpoint(filepath='model.weights.best.1_layer', verbose=1, save_best_only=True)\n",
    "hist = model.fit(x_train, y_train, batch_size=32, epochs=25,\n",
    "          validation_data=(x_valid, y_valid), callbacks=[checkpointer], \n",
    "          verbose=2, shuffle=True)\n",
    "\n",
    "model.load_weights('model.weights.best.1_layer')\n",
    "end = time()"
   ]
  },
  {
   "cell_type": "code",
   "execution_count": 6,
   "metadata": {
    "collapsed": false,
    "deletable": true,
    "editable": true
   },
   "outputs": [
    {
     "name": "stdout",
     "output_type": "stream",
     "text": [
      "Test accuracy (1-layer perceptron): 55.4099%\n",
      "Time to train: 39.68s\n"
     ]
    }
   ],
   "source": [
    "# Predicts and prints accuracy of predictions\n",
    "y_hat = model.predict(x_test)\n",
    "test_accuracy = 100*np.sum(np.argmax(y_hat, axis=1)==np.argmax(y_test, axis=1))/len(y_hat)\n",
    "print('Test accuracy (1-layer perceptron): %.4f%%' % test_accuracy)\n",
    "print('Time to train: %.2fs' % (end - start))\n",
    "\n",
    "# Converts probabilities to predicted label\n",
    "y_test_labels = np.argmax(y_test, axis=1)\n",
    "y_hat_labels = np.argmax(y_hat, axis=1)\n",
    "\n",
    "# Save model and labels\n",
    "perceptron_model = model\n",
    "perceptron_labels = [y_test_labels, y_hat_labels]"
   ]
  },
  {
   "cell_type": "markdown",
   "metadata": {
    "deletable": true,
    "editable": true
   },
   "source": [
    "The single layer perceptron performs decently well achieving an accuracy level of 61%, which is markedly better than random chance, which is 4.2%.\n",
    "\n",
    "#### CNN (MULTILAYER FROM SCRATCH)"
   ]
  },
  {
   "cell_type": "code",
   "execution_count": 7,
   "metadata": {
    "collapsed": false,
    "deletable": true,
    "editable": true
   },
   "outputs": [
    {
     "name": "stdout",
     "output_type": "stream",
     "text": [
      "_________________________________________________________________\n",
      "Layer (type)                 Output Shape              Param #   \n",
      "=================================================================\n",
      "conv2d_1 (Conv2D)            (None, 28, 28, 16)        80        \n",
      "_________________________________________________________________\n",
      "max_pooling2d_1 (MaxPooling2 (None, 14, 14, 16)        0         \n",
      "_________________________________________________________________\n",
      "conv2d_2 (Conv2D)            (None, 14, 14, 32)        2080      \n",
      "_________________________________________________________________\n",
      "max_pooling2d_2 (MaxPooling2 (None, 7, 7, 32)          0         \n",
      "_________________________________________________________________\n",
      "conv2d_3 (Conv2D)            (None, 7, 7, 64)          8256      \n",
      "_________________________________________________________________\n",
      "max_pooling2d_3 (MaxPooling2 (None, 3, 3, 64)          0         \n",
      "_________________________________________________________________\n",
      "flatten_2 (Flatten)          (None, 576)               0         \n",
      "_________________________________________________________________\n",
      "dropout_2 (Dropout)          (None, 576)               0         \n",
      "_________________________________________________________________\n",
      "dense_2 (Dense)              (None, 25)                14425     \n",
      "=================================================================\n",
      "Total params: 24,841.0\n",
      "Trainable params: 24,841.0\n",
      "Non-trainable params: 0.0\n",
      "_________________________________________________________________\n",
      "Train on 24455 samples, validate on 3000 samples\n",
      "Epoch 1/25\n",
      "Epoch 00000: val_loss improved from inf to 3.17781, saving model to model.weights.best.CNN_scratch\n",
      "10s - loss: 3.1977 - acc: 0.0442 - val_loss: 3.1778 - val_acc: 0.0537\n",
      "Epoch 2/25\n",
      "Epoch 00001: val_loss improved from 3.17781 to 3.15817, saving model to model.weights.best.CNN_scratch\n",
      "10s - loss: 3.1765 - acc: 0.0532 - val_loss: 3.1582 - val_acc: 0.1010\n",
      "Epoch 3/25\n",
      "Epoch 00002: val_loss improved from 3.15817 to 3.11085, saving model to model.weights.best.CNN_scratch\n",
      "10s - loss: 3.1483 - acc: 0.0737 - val_loss: 3.1108 - val_acc: 0.1253\n",
      "Epoch 4/25\n",
      "Epoch 00003: val_loss improved from 3.11085 to 2.86626, saving model to model.weights.best.CNN_scratch\n",
      "10s - loss: 3.0529 - acc: 0.1164 - val_loss: 2.8663 - val_acc: 0.2303\n",
      "Epoch 5/25\n",
      "Epoch 00004: val_loss improved from 2.86626 to 1.97217, saving model to model.weights.best.CNN_scratch\n",
      "9s - loss: 2.5551 - acc: 0.2439 - val_loss: 1.9722 - val_acc: 0.4050\n",
      "Epoch 6/25\n",
      "Epoch 00005: val_loss improved from 1.97217 to 1.35642, saving model to model.weights.best.CNN_scratch\n",
      "10s - loss: 1.8330 - acc: 0.4290 - val_loss: 1.3564 - val_acc: 0.5923\n",
      "Epoch 7/25\n",
      "Epoch 00006: val_loss improved from 1.35642 to 1.00200, saving model to model.weights.best.CNN_scratch\n",
      "9s - loss: 1.3711 - acc: 0.5607 - val_loss: 1.0020 - val_acc: 0.6963\n",
      "Epoch 8/25\n",
      "Epoch 00007: val_loss improved from 1.00200 to 0.75594, saving model to model.weights.best.CNN_scratch\n",
      "9s - loss: 1.0822 - acc: 0.6501 - val_loss: 0.7559 - val_acc: 0.7613\n",
      "Epoch 9/25\n",
      "Epoch 00008: val_loss improved from 0.75594 to 0.66962, saving model to model.weights.best.CNN_scratch\n",
      "10s - loss: 0.8780 - acc: 0.7125 - val_loss: 0.6696 - val_acc: 0.8180\n",
      "Epoch 10/25\n",
      "Epoch 00009: val_loss improved from 0.66962 to 0.46119, saving model to model.weights.best.CNN_scratch\n",
      "10s - loss: 0.7337 - acc: 0.7614 - val_loss: 0.4612 - val_acc: 0.8740\n",
      "Epoch 11/25\n",
      "Epoch 00010: val_loss improved from 0.46119 to 0.38283, saving model to model.weights.best.CNN_scratch\n",
      "9s - loss: 0.6248 - acc: 0.7927 - val_loss: 0.3828 - val_acc: 0.8830\n",
      "Epoch 12/25\n",
      "Epoch 00011: val_loss improved from 0.38283 to 0.26706, saving model to model.weights.best.CNN_scratch\n",
      "10s - loss: 0.5403 - acc: 0.8214 - val_loss: 0.2671 - val_acc: 0.9283\n",
      "Epoch 13/25\n",
      "Epoch 00012: val_loss improved from 0.26706 to 0.22834, saving model to model.weights.best.CNN_scratch\n",
      "9s - loss: 0.4761 - acc: 0.8380 - val_loss: 0.2283 - val_acc: 0.9440\n",
      "Epoch 14/25\n",
      "Epoch 00013: val_loss improved from 0.22834 to 0.17700, saving model to model.weights.best.CNN_scratch\n",
      "9s - loss: 0.4131 - acc: 0.8620 - val_loss: 0.1770 - val_acc: 0.9687\n",
      "Epoch 15/25\n",
      "Epoch 00014: val_loss did not improve\n",
      "10s - loss: 0.3690 - acc: 0.8760 - val_loss: 0.2016 - val_acc: 0.9507\n",
      "Epoch 16/25\n",
      "Epoch 00015: val_loss did not improve\n",
      "9s - loss: 0.3359 - acc: 0.8866 - val_loss: 0.2038 - val_acc: 0.9313\n",
      "Epoch 17/25\n",
      "Epoch 00016: val_loss improved from 0.17700 to 0.13918, saving model to model.weights.best.CNN_scratch\n",
      "9s - loss: 0.3085 - acc: 0.8954 - val_loss: 0.1392 - val_acc: 0.9677\n",
      "Epoch 18/25\n",
      "Epoch 00017: val_loss improved from 0.13918 to 0.10117, saving model to model.weights.best.CNN_scratch\n",
      "10s - loss: 0.2780 - acc: 0.9068 - val_loss: 0.1012 - val_acc: 0.9843\n",
      "Epoch 19/25\n",
      "Epoch 00018: val_loss improved from 0.10117 to 0.08536, saving model to model.weights.best.CNN_scratch\n",
      "9s - loss: 0.2626 - acc: 0.9127 - val_loss: 0.0854 - val_acc: 0.9860\n",
      "Epoch 20/25\n",
      "Epoch 00019: val_loss improved from 0.08536 to 0.07337, saving model to model.weights.best.CNN_scratch\n",
      "9s - loss: 0.2339 - acc: 0.9215 - val_loss: 0.0734 - val_acc: 0.9933\n",
      "Epoch 21/25\n",
      "Epoch 00020: val_loss improved from 0.07337 to 0.06378, saving model to model.weights.best.CNN_scratch\n",
      "9s - loss: 0.2182 - acc: 0.9274 - val_loss: 0.0638 - val_acc: 0.9940\n",
      "Epoch 22/25\n",
      "Epoch 00021: val_loss did not improve\n",
      "9s - loss: 0.2080 - acc: 0.9314 - val_loss: 0.0723 - val_acc: 0.9887\n",
      "Epoch 23/25\n",
      "Epoch 00022: val_loss did not improve\n",
      "9s - loss: 0.1936 - acc: 0.9356 - val_loss: 0.0752 - val_acc: 0.9833\n",
      "Epoch 24/25\n",
      "Epoch 00023: val_loss improved from 0.06378 to 0.04772, saving model to model.weights.best.CNN_scratch\n",
      "9s - loss: 0.1835 - acc: 0.9399 - val_loss: 0.0477 - val_acc: 0.9957\n",
      "Epoch 25/25\n",
      "Epoch 00024: val_loss did not improve\n",
      "10s - loss: 0.1729 - acc: 0.9419 - val_loss: 0.0619 - val_acc: 0.9860\n"
     ]
    }
   ],
   "source": [
    "# Creates the model\n",
    "start = time()\n",
    "model = Sequential()\n",
    "\n",
    "model.add(Conv2D(filters=16, kernel_size=2, padding='same', activation='relu', \n",
    "                        input_shape=(28, 28, 1)))\n",
    "model.add(MaxPooling2D(pool_size=2))\n",
    "model.add(Conv2D(filters=32, kernel_size=2, padding='same', activation='relu'))\n",
    "model.add(MaxPooling2D(pool_size=2))\n",
    "model.add(Conv2D(filters=64, kernel_size=2, padding='same', activation='relu'))\n",
    "model.add(MaxPooling2D(pool_size=2))\n",
    "model.add(Flatten())\n",
    "model.add(Dropout(0.4))\n",
    "model.add(Dense(25, activation='softmax'))\n",
    "\n",
    "model.summary()\n",
    "\n",
    "# Compiles the model\n",
    "model.compile(loss='categorical_crossentropy', optimizer='sgd', metrics=['accuracy'])\n",
    "\n",
    "# Trains the model\n",
    "checkpointer = ModelCheckpoint(filepath='model.weights.best.CNN_scratch', verbose=1, save_best_only=True)\n",
    "hist = model.fit(x_train, y_train, batch_size=32, epochs=25,\n",
    "          validation_data=(x_valid, y_valid), callbacks=[checkpointer], \n",
    "          verbose=2, shuffle=True)\n",
    "\n",
    "model.load_weights('model.weights.best.CNN_scratch')\n",
    "end = time()"
   ]
  },
  {
   "cell_type": "code",
   "execution_count": 8,
   "metadata": {
    "collapsed": false,
    "deletable": true,
    "editable": true
   },
   "outputs": [
    {
     "name": "stdout",
     "output_type": "stream",
     "text": [
      "Test accuracy (Multilayer CNN from scratch): 87.5209%\n",
      "Time to train: 250.36s\n"
     ]
    }
   ],
   "source": [
    "# Predicts and prints accuracy of predictions\n",
    "y_hat = model.predict(x_test)\n",
    "test_accuracy = 100*np.sum(np.argmax(y_hat, axis=1)==np.argmax(y_test, axis=1))/len(y_hat)\n",
    "print('Test accuracy (Multilayer CNN from scratch): %.4f%%' % test_accuracy)\n",
    "print('Time to train: %.2fs' % (end - start))\n",
    "\n",
    "# Converts probabilities to predicted label\n",
    "y_test_labels = np.argmax(y_test, axis=1)\n",
    "y_hat_labels = np.argmax(y_hat, axis=1)\n",
    "\n",
    "# Save model and labels\n",
    "multilayerCNN_model = model\n",
    "multilayerCNN_labels = [y_test_labels, y_hat_labels]"
   ]
  },
  {
   "cell_type": "markdown",
   "metadata": {
    "collapsed": false,
    "deletable": true,
    "editable": true
   },
   "source": [
    "The mulitilayer CNN from scratch outperforms the 1-layer perceptron achieving an accuracy level of 81% compared to the single layer perceptron which achieved 61% accuracy.\n",
    "\n",
    "#### ADABOOST CLASSIFIER"
   ]
  },
  {
   "cell_type": "code",
   "execution_count": 9,
   "metadata": {
    "collapsed": false,
    "deletable": true,
    "editable": true
   },
   "outputs": [
    {
     "name": "stdout",
     "output_type": "stream",
     "text": [
      "Training accuracy (AdaBoost): 34.5100%\n",
      "Test accuracy (AdaBoost): 31.5533%\n",
      "Time to train: 48.93s\n"
     ]
    }
   ],
   "source": [
    "start = time()\n",
    "\n",
    "# Rescales [0,255] --> [0,1]\n",
    "x_train = train_features.astype('float32')/255\n",
    "x_test = test_features.astype('float32')/255\n",
    "y_train = train_labels.values\n",
    "y_test = test_labels.values\n",
    "\n",
    "# Defines classifer\n",
    "clf = AdaBoostClassifier()\n",
    "clf = clf.fit(x_train, y_train)\n",
    "end = time()\n",
    "\n",
    "# Predicts and prints accuracy of predictions\n",
    "y_hat_train = clf.predict(x_train)\n",
    "y_hat_test = clf.predict(x_test)\n",
    "training_accuracy = accuracy_score(y_train[0:10000], y_hat_train[0:10000])*100\n",
    "print('Training accuracy (AdaBoost): %.4f%%' % training_accuracy)\n",
    "testing_accuracy = accuracy_score(y_test, y_hat_test)*100\n",
    "print('Test accuracy (AdaBoost): %.4f%%' % testing_accuracy)\n",
    "print('Time to train: %.2fs' % (end - start))\n",
    "\n",
    "# Save model and labels\n",
    "adaboost_clf = clf\n",
    "adaboost_labels = [y_test, y_hat_test]"
   ]
  },
  {
   "cell_type": "markdown",
   "metadata": {
    "deletable": true,
    "editable": true
   },
   "source": [
    "The default AdaBoost classifier only achieves 31.6% accuracy on the testing dataset which is much lower than what the  multilayer CNN and single layer perceptron achieved.\n",
    "\n",
    "#### SVC CLASSIFIER"
   ]
  },
  {
   "cell_type": "code",
   "execution_count": 10,
   "metadata": {
    "collapsed": false,
    "deletable": true,
    "editable": true
   },
   "outputs": [
    {
     "name": "stdout",
     "output_type": "stream",
     "text": [
      "Training accuracy (SVC): 84.1500%\n",
      "Test accuracy (SVC): 69.6877%\n",
      "Time to train: 478.94s\n"
     ]
    }
   ],
   "source": [
    "start = time()\n",
    "\n",
    "# Rescales [0,255] --> [0,1]\n",
    "x_train = train_features.astype('float32')/255\n",
    "x_test = test_features.astype('float32')/255\n",
    "y_train = train_labels.values\n",
    "y_test = test_labels.values\n",
    "\n",
    "# Defines classifer\n",
    "clf = SVC()\n",
    "clf = clf.fit(x_train, y_train)\n",
    "end = time()\n",
    "\n",
    "# Predicts and prints accuracy of predictions\n",
    "y_hat_train = clf.predict(x_train)\n",
    "y_hat_test = clf.predict(x_test)\n",
    "training_accuracy = accuracy_score(y_train[0:10000], y_hat_train[0:10000])*100\n",
    "print('Training accuracy (SVC): %.4f%%' % training_accuracy)\n",
    "testing_accuracy = accuracy_score(y_test, y_hat_test)*100\n",
    "print('Test accuracy (SVC): %.4f%%' % testing_accuracy)\n",
    "print('Time to train: %.2fs' % (end - start))\n",
    "\n",
    "# Save model and labels\n",
    "SVC_clf = clf\n",
    "SVC_labels = [y_test, y_hat_test]"
   ]
  },
  {
   "cell_type": "markdown",
   "metadata": {
    "deletable": true,
    "editable": true
   },
   "source": [
    "The default SVC classifier achieves 70% accuracy on the testing dataset which is lower than what the  multilayer CNN achieved but is higher than what the single layer perceptron and default AdaBoost classifier achieved.\n",
    "\n",
    "#### GAUSSIAN NAIVE BAYES"
   ]
  },
  {
   "cell_type": "code",
   "execution_count": null,
   "metadata": {
    "collapsed": false,
    "deletable": true,
    "editable": true
   },
   "outputs": [
    {
     "name": "stdout",
     "output_type": "stream",
     "text": [
      "Training accuracy (GaussianNB): 45.7300%\n",
      "Test accuracy (GaussianNB): 38.9849%\n",
      "Time to train: 0.63s\n"
     ]
    }
   ],
   "source": [
    "start = time()\n",
    "\n",
    "# Rescales [0,255] --> [0,1]\n",
    "x_train = train_features.astype('float32')/255\n",
    "x_test = test_features.astype('float32')/255\n",
    "y_train = train_labels.values\n",
    "y_test = test_labels.values\n",
    "\n",
    "# Defines classifer\n",
    "clf = GaussianNB()\n",
    "clf = clf.fit(x_train, y_train)\n",
    "end = time()\n",
    "\n",
    "# Predicts and prints accuracy of predictions\n",
    "y_hat_train = clf.predict(x_train)\n",
    "y_hat_test = clf.predict(x_test)\n",
    "training_accuracy = accuracy_score(y_train[0:10000], y_hat_train[0:10000])*100\n",
    "print('Training accuracy (GaussianNB): %.4f%%' % training_accuracy)\n",
    "testing_accuracy = accuracy_score(y_test, y_hat_test)*100\n",
    "print('Test accuracy (GaussianNB): %.4f%%' % testing_accuracy)\n",
    "print('Time to train: %.2fs' % (end - start))\n",
    "\n",
    "# Save model and labels\n",
    "gaussianNB_clf = clf\n",
    "gaussianNB_labels = [y_test, y_hat_test]"
   ]
  },
  {
   "cell_type": "markdown",
   "metadata": {
    "deletable": true,
    "editable": true
   },
   "source": [
    "The default GaussianNB classifier only achieves 39% accuracy on the testing dataset which is lower than what all the other models achieved except the AdaBoost classifier. However, it has the shortest training time. \n",
    "\n",
    "#### OPTIMIZED SVC\n",
    "\n",
    "Since the SVC model achieved the best out of all the supervised learning classifiers, I used GridSearchCV to find the optimal parameters and improved its accuracy."
   ]
  },
  {
   "cell_type": "code",
   "execution_count": null,
   "metadata": {
    "collapsed": false,
    "deletable": true,
    "editable": true
   },
   "outputs": [],
   "source": [
    "start = time()\n",
    "# Initializes the classifier\n",
    "clf = SVC()\n",
    "\n",
    "# Defines parameter list to tune\n",
    "parameters = {'C': [0.5, 0.75, 1.25, 1.5], 'gamma' : [0.0001, 0.001, 0.01, 0.1]}\n",
    "\n",
    "# Defines scoring method\n",
    "scorer = make_scorer(accuracy_score)\n",
    "\n",
    "# Performs grid search on the classifier using 'scorer' as the scoring method using GridSearchCV()\n",
    "grid_obj = GridSearchCV(clf, param_grid = parameters,scoring=scorer)\n",
    "grid_fit = grid_obj.fit(x_train, y_train)\n",
    "end = time()\n",
    "\n",
    "# Get the best estimator\n",
    "best_clf = grid_fit.best_estimator_\n",
    "\n",
    "# Predicts and prints accuracy of predictions\n",
    "y_hat_test = best_clf.predict(x_test)\n",
    "testing_accuracy = accuracy_score(y_test, y_hat_test)*100\n",
    "print('Test accuracy (SVC Optimized): %.4f%%' % testing_accuracy)\n",
    "print('Time to train: %.2fs' % (end - start))\n",
    "\n",
    "OptimizedSVC_clf = best_clf\n",
    "OptimizedSVC_labels = [y_test, y_hat_test]\n",
    "print(OptimizedSVC_clf)"
   ]
  },
  {
   "cell_type": "markdown",
   "metadata": {
    "collapsed": true,
    "deletable": true,
    "editable": true
   },
   "source": [
    "#### CONFUSION MATRIX\n",
    "\n",
    "The confusion below helps to identify the hand gestures that tend to get misclassified the most"
   ]
  },
  {
   "cell_type": "code",
   "execution_count": null,
   "metadata": {
    "collapsed": false,
    "deletable": true,
    "editable": true
   },
   "outputs": [],
   "source": [
    "# Creates and saves confusion matrix into a csv file\n",
    "def save_confusion_matrix(labels):\n",
    "    matrix = np.zeros((len(unique_labels)+1, len(unique_labels)+1))\n",
    "    i = 0\n",
    "    while i < len(labels[0]):\n",
    "        matrix[labels[0][i]][labels[1][i]]+=1\n",
    "        i += 1\n",
    "    np.savetxt(\"confusion_matrix.csv\", matrix, delimiter=\",\")\n",
    "    return matrix\n",
    "\n",
    "# Plots confusion matrix\n",
    "def plot_confusion_matrix(y_true,y_pred):\n",
    "    cm_array = confusion_matrix(y_true,y_pred)\n",
    "    true_labels = np.unique(y_true)\n",
    "    pred_labels = np.unique(y_pred)\n",
    "    plt.imshow(cm_array[:-1,:-1], interpolation='nearest', cmap=plt.cm.Blues)\n",
    "    plt.title(\"Confusion matrix\", fontsize=16)\n",
    "    cbar = plt.colorbar(fraction=0.046, pad=0.04)\n",
    "    cbar.set_label('Number of images', rotation=270, labelpad=30, fontsize=12)\n",
    "    xtick_marks = np.arange(len(true_labels))\n",
    "    ytick_marks = np.arange(len(pred_labels))\n",
    "    plt.xticks(xtick_marks, true_labels, rotation=90)\n",
    "    plt.yticks(ytick_marks,pred_labels)\n",
    "    plt.tight_layout()\n",
    "    plt.ylabel('True label', fontsize=14)\n",
    "    plt.xlabel('Predicted label', fontsize=14)\n",
    "    fig_size = plt.rcParams[\"figure.figsize\"]\n",
    "    fig_size[0] = 10\n",
    "    fig_size[1] = 10\n",
    "    plt.rcParams[\"figure.figsize\"] = fig_size\n",
    "    plt.show()\n",
    "    \n",
    "save_confusion_matrix(multilayerCNN_labels)\n",
    "plot_confusion_matrix(multilayerCNN_labels[0], multilayerCNN_labels[1])"
   ]
  },
  {
   "cell_type": "markdown",
   "metadata": {
    "collapsed": true,
    "deletable": true,
    "editable": true
   },
   "source": [
    "#### TEST IMAGES\n",
    "\n",
    "Runs multilayer CNN and Optimized SVC model against test images (images provided in Kaggle dataset as well as random images from the internet) to check accuracy"
   ]
  },
  {
   "cell_type": "code",
   "execution_count": null,
   "metadata": {
    "collapsed": false,
    "deletable": true,
    "editable": true
   },
   "outputs": [],
   "source": [
    "def image_detector(img_path):\n",
    "\n",
    "    # Plots original image after being shrunk to 28x28 target size\n",
    "    img = image.load_img(img_path, target_size=(28,28))\n",
    "    plt.imshow(img)\n",
    "    plt.show()\n",
    "    \n",
    "    # Converts image to grayscale\n",
    "    img = np.asarray(img)\n",
    "    img = cv2.cvtColor(img, cv2.COLOR_BGR2GRAY)\n",
    "    \n",
    "    # Multilayer CNN predicts label of image\n",
    "    x = image.img_to_array(img)\n",
    "    x = x.astype('float32')/255\n",
    "    x_img = np.expand_dims(x, axis=0)\n",
    "    label = np.argmax(multilayerCNN_model.predict(x_img))\n",
    "    print(\"CNN Multilayer: \", label)\n",
    "    \n",
    "    # Optimized SVC predicts label of image\n",
    "    x = img.flatten()\n",
    "    x_img = x.astype('float32')/255\n",
    "    label = OptimizedSVC_clf.predict(x_img)\n",
    "    print(\"Optimized SVC Prediction: \", label)"
   ]
  },
  {
   "cell_type": "code",
   "execution_count": null,
   "metadata": {
    "collapsed": false,
    "deletable": true,
    "editable": true
   },
   "outputs": [],
   "source": [
    "# Tests color images provided in Kaggle dataset\n",
    "test_files = np.array(glob(\"testImages\\color\\*\"))\n",
    "\n",
    "for img in test_files:\n",
    "    print(\"\\nFilename: \" + img)\n",
    "    image_detector(img)"
   ]
  },
  {
   "cell_type": "code",
   "execution_count": null,
   "metadata": {
    "collapsed": false
   },
   "outputs": [],
   "source": [
    "# Tests images from internet\n",
    "test_files = np.array(glob(\"testImages\\internetImages\\*\"))\n",
    "\n",
    "for img in test_files:\n",
    "    print(\"\\nFilename: \" + img)\n",
    "    image_detector(img)"
   ]
  },
  {
   "cell_type": "code",
   "execution_count": null,
   "metadata": {
    "collapsed": true
   },
   "outputs": [],
   "source": []
  }
 ],
 "metadata": {
  "anaconda-cloud": {},
  "kernelspec": {
   "display_name": "Python 3",
   "language": "python",
   "name": "python3"
  },
  "language_info": {
   "codemirror_mode": {
    "name": "ipython",
    "version": 3
   },
   "file_extension": ".py",
   "mimetype": "text/x-python",
   "name": "python",
   "nbconvert_exporter": "python",
   "pygments_lexer": "ipython3",
   "version": "3.5.3"
  }
 },
 "nbformat": 4,
 "nbformat_minor": 2
}
